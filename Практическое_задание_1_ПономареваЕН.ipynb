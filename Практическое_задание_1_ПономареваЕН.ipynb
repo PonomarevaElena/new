{
 "cells": [
  {
   "cell_type": "markdown",
   "id": "0b9bdfcb",
   "metadata": {},
   "source": [
    "# Практическое задание № 1\n",
    "\n",
    "## Выполнил: Пономарева Елена Николаевна"
   ]
  },
  {
   "cell_type": "markdown",
   "id": "45aa810a",
   "metadata": {},
   "source": [
    "Первая программа на языке программирования Python\n",
    "1. Создайте структуру данных, описывающую закрытую социальную сеть (не менее 10 пользователей). \n",
    "Используйте списки и словари для установления взаимосвязей пользователей. \n",
    "2. Создайте функцию, определяющую количество друзей у выбранного пользователя.\n",
    "3. Создайте функцию, выводящую на экран пользователей, отсортированных по количеству друзей."
   ]
  },
  {
   "cell_type": "markdown",
   "id": "299d0556",
   "metadata": {},
   "source": [
    "### Частная социальная сеть со следующими изменениями:\n",
    "### Пётр теперь не дружит с Александром, Аня не дружит с Женей, зато Женя дружит с Сергеем. Ирина сменила имя на Арина. "
   ]
  },
  {
   "cell_type": "markdown",
   "id": "e9c87951",
   "metadata": {},
   "source": [
    "<a href=\"https://ibb.co/8mmG2Cv\"><img src=\"https://i.ibb.co/8mmG2Cv/MindMap1.jpg\" alt=\"MindMap1\" border=\"0\"></a>"
   ]
  },
  {
   "cell_type": "code",
   "execution_count": 33,
   "id": "b7a17e71",
   "metadata": {},
   "outputs": [
    {
     "data": {
      "text/plain": [
       "list"
      ]
     },
     "execution_count": 33,
     "metadata": {},
     "output_type": "execute_result"
    }
   ],
   "source": [
    "users = [\n",
    "{\"id\": 0, \"name\": \"Алексей\"},\n",
    "{\"id\": 1, \"name\" : \"Петр\"},\n",
    "{\"id\": 2, \"name\": \"Александр\"},\n",
    "{\"id\": 3, \"name\": \"Сергей\"},\n",
    "{\"id\": 4, \"name\": \"Катя\"},\n",
    "{\"id\": 5, \"name\": \"Владимир\"},\n",
    "{\"id\": 6, \"name\": \"Аня\"},\n",
    "{\"id\": 7, \"name\": \"Дмитрий\"},\n",
    "{\"id\": 8, \"name\": \"Арина\"},\n",
    "{\"id\": 9, \"name\": \"Дарья\"},\n",
    "{\"id\": 10, \"name\": \"Женя\"}\n",
    "]\n",
    "type(users)"
   ]
  },
  {
   "cell_type": "code",
   "execution_count": 35,
   "id": "514ecded",
   "metadata": {},
   "outputs": [
    {
     "data": {
      "text/plain": [
       "(list,\n",
       " [(0, 1),\n",
       "  (0, 2),\n",
       "  (1, 3),\n",
       "  (3, 4),\n",
       "  (3, 10),\n",
       "  (4, 5),\n",
       "  (4, 10),\n",
       "  (5, 6),\n",
       "  (5, 7),\n",
       "  (5, 8),\n",
       "  (6, 8),\n",
       "  (7, 8),\n",
       "  (8, 9),\n",
       "  (10, 2)])"
      ]
     },
     "execution_count": 35,
     "metadata": {},
     "output_type": "execute_result"
    }
   ],
   "source": [
    "fp = [ (0, 1), (0, 2), (1, 3), (3, 4), (3,10), \n",
    "(4, 5),(4,10), (5, 6), (5, 7), (5, 8), (6, 8), (7, 8), (8, 9), (10,2)]\n",
    "type(fp), fp"
   ]
  },
  {
   "cell_type": "code",
   "execution_count": 36,
   "id": "45310826",
   "metadata": {
    "scrolled": true
   },
   "outputs": [
    {
     "data": {
      "text/plain": [
       "(dict,\n",
       " {0: [],\n",
       "  1: [],\n",
       "  2: [],\n",
       "  3: [],\n",
       "  4: [],\n",
       "  5: [],\n",
       "  6: [],\n",
       "  7: [],\n",
       "  8: [],\n",
       "  9: [],\n",
       "  10: []})"
      ]
     },
     "execution_count": 36,
     "metadata": {},
     "output_type": "execute_result"
    }
   ],
   "source": [
    "# Инициализировать словарь пустым списком для идентификатора\n",
    "# каждого пользователя\n",
    "friendships = {user[\"id\"]: [] for user in users}\n",
    "type(friendships), friendships"
   ]
  },
  {
   "cell_type": "code",
   "execution_count": 37,
   "id": "aa8f24a9",
   "metadata": {},
   "outputs": [],
   "source": [
    "for i, j in fp:\n",
    "    friendships[i].append(j) # Добавить j как друга для i\n",
    "    friendships[j].append(i) # Добавить i как друга ДЛЯ j"
   ]
  },
  {
   "cell_type": "code",
   "execution_count": 38,
   "id": "ad1fa103",
   "metadata": {
    "scrolled": true
   },
   "outputs": [
    {
     "data": {
      "text/plain": [
       "{0: [1, 2],\n",
       " 1: [0, 3],\n",
       " 2: [0, 10],\n",
       " 3: [1, 4, 10],\n",
       " 4: [3, 5, 10],\n",
       " 5: [4, 6, 7, 8],\n",
       " 6: [5, 8],\n",
       " 7: [5, 8],\n",
       " 8: [5, 6, 7, 9],\n",
       " 9: [8],\n",
       " 10: [3, 4, 2]}"
      ]
     },
     "execution_count": 38,
     "metadata": {},
     "output_type": "execute_result"
    }
   ],
   "source": [
    "friendships"
   ]
  },
  {
   "cell_type": "markdown",
   "id": "0d7ff473",
   "metadata": {},
   "source": [
    "2. Функция, определяющяя количество друзей у выбранного пользователя\n",
    "   "
   ]
  },
  {
   "cell_type": "markdown",
   "id": "46050f94",
   "metadata": {},
   "source": [
    "Написать функцию, которая определяет сколько друзей есть у пользователя user<br>\n",
    "def number_of_friends(u):<br>\n",
    " * в локальную переменную user_id присвоить значение по ключу id из словаря u - {'id': 0, 'name': 'Алексей'}<br>\n",
    " * в локальную переменную friend_ids присвоить значение по ключу из словаря friendships - 3: [1, 4] \n",
    " * у функции возвращаем количество элементов списка friend_ids"
   ]
  },
  {
   "cell_type": "code",
   "execution_count": 60,
   "id": "c3c9caaa",
   "metadata": {},
   "outputs": [],
   "source": [
    "def number_of_friends(u):\n",
    "    user_id = u['id']\n",
    "    friends_ids = friendships[user_id]\n",
    "    return len(friends_ids)"
   ]
  },
  {
   "cell_type": "code",
   "execution_count": 104,
   "id": "7fe49e2b",
   "metadata": {},
   "outputs": [
    {
     "data": {
      "text/plain": [
       "{'id': 3, 'name': 'Сергей'}"
      ]
     },
     "execution_count": 104,
     "metadata": {},
     "output_type": "execute_result"
    }
   ],
   "source": [
    "users[3]"
   ]
  },
  {
   "cell_type": "code",
   "execution_count": 105,
   "id": "3443e71f",
   "metadata": {},
   "outputs": [
    {
     "data": {
      "text/plain": [
       "3"
      ]
     },
     "execution_count": 105,
     "metadata": {},
     "output_type": "execute_result"
    }
   ],
   "source": [
    "number_of_friends(users[3]) #выводит количество друзей"
   ]
  },
  {
   "cell_type": "markdown",
   "id": "e353dca6",
   "metadata": {},
   "source": [
    "3. Функция, выводящая на экран пользователей, отсортированных по количеству друзей"
   ]
  },
  {
   "cell_type": "markdown",
   "id": "5e2a76ac",
   "metadata": {},
   "source": [
    "создать список num_friends_by_name, который содержит имя пользователя user[\"name\"] и число его друзей number_of_friends(user)"
   ]
  },
  {
   "cell_type": "code",
   "execution_count": 99,
   "id": "6a5bdc7a",
   "metadata": {},
   "outputs": [],
   "source": [
    "num_friends_by_name = list()\n",
    "for user in users:\n",
    "    name_num = (user['name'], number_of_friends(user))\n",
    "    num_friends_by_name.append(name_num)"
   ]
  },
  {
   "cell_type": "code",
   "execution_count": 100,
   "id": "eb5bf6f6",
   "metadata": {},
   "outputs": [
    {
     "data": {
      "text/plain": [
       "(list,\n",
       " [('Алексей', 2),\n",
       "  ('Петр', 2),\n",
       "  ('Александр', 2),\n",
       "  ('Сергей', 3),\n",
       "  ('Катя', 3),\n",
       "  ('Владимир', 4),\n",
       "  ('Аня', 2),\n",
       "  ('Дмитрий', 2),\n",
       "  ('Арина', 4),\n",
       "  ('Дарья', 1),\n",
       "  ('Женя', 3)])"
      ]
     },
     "execution_count": 100,
     "metadata": {},
     "output_type": "execute_result"
    }
   ],
   "source": [
    "type(num_friends_by_name), num_friends_by_name"
   ]
  },
  {
   "cell_type": "markdown",
   "id": "50b086bb",
   "metadata": {},
   "source": [
    "Отсортировать список по числу друзей "
   ]
  },
  {
   "cell_type": "code",
   "execution_count": 101,
   "id": "27f59286",
   "metadata": {},
   "outputs": [],
   "source": [
    "num_friends_by_name.sort(key = lambda x: x[1])\n",
    "# Каждая пара представлена кортежем (name, num_friends),\n",
    "# т. е. именем пользователя и числом друзей"
   ]
  },
  {
   "cell_type": "code",
   "execution_count": 103,
   "id": "bb4da4b4",
   "metadata": {},
   "outputs": [
    {
     "name": "stdout",
     "output_type": "stream",
     "text": [
      "[('Дарья', 1), ('Алексей', 2), ('Петр', 2), ('Александр', 2), ('Аня', 2), ('Дмитрий', 2), ('Сергей', 3), ('Катя', 3), ('Женя', 3), ('Владимир', 4), ('Арина', 4)]\n"
     ]
    }
   ],
   "source": [
    "print(num_friends_by_name)"
   ]
  },
  {
   "cell_type": "code",
   "execution_count": 108,
   "id": "3ac00aef",
   "metadata": {},
   "outputs": [
    {
     "name": "stdout",
     "output_type": "stream",
     "text": [
      "Дарья\n",
      "Алексей\n",
      "Петр\n",
      "Александр\n",
      "Аня\n",
      "Дмитрий\n",
      "Сергей\n",
      "Катя\n",
      "Женя\n",
      "Владимир\n",
      "Арина\n"
     ]
    }
   ],
   "source": [
    "for name_num in num_friends_by_name:\n",
    "    print(name_num[0])"
   ]
  },
  {
   "cell_type": "markdown",
   "id": "05fb575d",
   "metadata": {},
   "source": [
    "4. Порекомендуем пользователю список возможных друзей из числа \"друзья друзей\" (НЕОБЯЗАТЕЛЬНО)"
   ]
  },
  {
   "cell_type": "code",
   "execution_count": 136,
   "id": "fa2b3102",
   "metadata": {},
   "outputs": [],
   "source": [
    "### Изменить данную функцию, чтобы она выводила Имена пользователей из списка друзья друзей\n",
    "def names(ff_ids):\n",
    "    names = list()\n",
    "    for user_id in ff_ids:\n",
    "        name = users[user_id][\"name\"]\n",
    "        names.append(name)\n",
    "    return names\n",
    "\n",
    "def friends_of_friends(user):\n",
    "    user_id = user[\"id\"]\n",
    "    user_name = user[\"name\"]\n",
    "    return names([ff_id\n",
    "            for friend_id in friendships[user_id]\n",
    "            for ff_id in friendships[friend_id]\n",
    "            if ff_id != user_id and ff_id not in friendships[user_id]])  \n"
   ]
  },
  {
   "cell_type": "code",
   "execution_count": 137,
   "id": "b50353ec",
   "metadata": {},
   "outputs": [
    {
     "data": {
      "text/plain": [
       "['Сергей', 'Женя']"
      ]
     },
     "execution_count": 137,
     "metadata": {},
     "output_type": "execute_result"
    }
   ],
   "source": [
    "friends_of_friends(users[0])"
   ]
  },
  {
   "cell_type": "markdown",
   "id": "b2f6d774",
   "metadata": {},
   "source": [
    "создать список с кортежами Имя пользователя , Список имен рекомендованных друзей"
   ]
  },
  {
   "cell_type": "code",
   "execution_count": 138,
   "id": "5b2c659f",
   "metadata": {},
   "outputs": [],
   "source": [
    "num_friends_by_friend = list()\n",
    "for user in users:\n",
    "    name = user['name']\n",
    "    user_id = user[\"id\"]\n",
    "    frfr = friends_of_friends(users[user_id])\n",
    "    str = (name, frfr)\n",
    "    num_friends_by_friend.append(str)"
   ]
  },
  {
   "cell_type": "code",
   "execution_count": 139,
   "id": "bf0e20a9",
   "metadata": {},
   "outputs": [
    {
     "data": {
      "text/plain": [
       "[('Алексей', ['Сергей', 'Женя']),\n",
       " ('Петр', ['Александр', 'Катя', 'Женя']),\n",
       " ('Александр', ['Петр', 'Сергей', 'Катя']),\n",
       " ('Сергей', ['Алексей', 'Владимир', 'Александр']),\n",
       " ('Катя', ['Петр', 'Аня', 'Дмитрий', 'Арина', 'Александр']),\n",
       " ('Владимир', ['Сергей', 'Женя', 'Дарья']),\n",
       " ('Аня', ['Катя', 'Дмитрий', 'Дмитрий', 'Дарья']),\n",
       " ('Дмитрий', ['Катя', 'Аня', 'Аня', 'Дарья']),\n",
       " ('Арина', ['Катя']),\n",
       " ('Дарья', ['Владимир', 'Аня', 'Дмитрий']),\n",
       " ('Женя', ['Петр', 'Владимир', 'Алексей'])]"
      ]
     },
     "execution_count": 139,
     "metadata": {},
     "output_type": "execute_result"
    }
   ],
   "source": [
    "num_friends_by_friend"
   ]
  }
 ],
 "metadata": {
  "kernelspec": {
   "display_name": "Python 3 (ipykernel)",
   "language": "python",
   "name": "python3"
  },
  "language_info": {
   "codemirror_mode": {
    "name": "ipython",
    "version": 3
   },
   "file_extension": ".py",
   "mimetype": "text/x-python",
   "name": "python",
   "nbconvert_exporter": "python",
   "pygments_lexer": "ipython3",
   "version": "3.9.7"
  }
 },
 "nbformat": 4,
 "nbformat_minor": 5
}
